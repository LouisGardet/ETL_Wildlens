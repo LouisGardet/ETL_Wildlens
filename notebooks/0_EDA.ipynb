{
 "cells": [
  {
   "metadata": {},
   "cell_type": "markdown",
   "source": [
    "# Analyse exploratoire des données (EDA)\n",
    "\n",
    "Ce notebook vise à explorer les fichiers `.csv` fournis en amont du projet afin de mieux comprendre la structure, la qualité et le contenu des données. Il servira de base pour les étapes d'ETL et de modélisation."
   ],
   "id": "3ca3325dd962007f"
  },
  {
   "cell_type": "code",
   "id": "initial_id",
   "metadata": {
    "collapsed": true,
    "ExecuteTime": {
     "end_time": "2025-08-22T09:32:54.021583Z",
     "start_time": "2025-08-22T09:32:54.020031Z"
    }
   },
   "source": [
    "import pandas as pd\n",
    "import seaborn as sns\n",
    "import matplotlib.pyplot as plt\n",
    "import numpy as np"
   ],
   "outputs": [],
   "execution_count": 1
  },
  {
   "metadata": {
    "ExecuteTime": {
     "end_time": "2025-08-22T09:32:54.036702Z",
     "start_time": "2025-08-22T09:32:54.025979Z"
    }
   },
   "cell_type": "code",
   "source": [
    "df_index = pd.read_csv(\"../data/metadata/dataset_index_openanimaltracks.csv\")\n",
    "df_index_fr = pd.read_csv(\"../data/metadata/dataset_index_openanimaltracks_FR.csv\")\n",
    "df_scraped = pd.read_csv(\"../data/metadata/dataset_scraped_index.csv\")\n",
    "df_species = pd.read_csv(\"../data/metadata/infos_especes.csv\", sep=';', on_bad_lines='warn')"
   ],
   "id": "e4d1566f0c064031",
   "outputs": [],
   "execution_count": 2
  }
 ],
 "metadata": {
  "kernelspec": {
   "display_name": "Python 3",
   "language": "python",
   "name": "python3"
  },
  "language_info": {
   "codemirror_mode": {
    "name": "ipython",
    "version": 2
   },
   "file_extension": ".py",
   "mimetype": "text/x-python",
   "name": "python",
   "nbconvert_exporter": "python",
   "pygments_lexer": "ipython2",
   "version": "2.7.6"
  }
 },
 "nbformat": 4,
 "nbformat_minor": 5
}
