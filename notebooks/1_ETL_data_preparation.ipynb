{
 "cells": [
  {
   "metadata": {
    "ExecuteTime": {
     "end_time": "2025-07-31T14:26:04.432542Z",
     "start_time": "2025-07-31T14:26:04.430733Z"
    }
   },
   "cell_type": "code",
   "source": [
    "# 🧱 **ÉTAPE 0 — Préparation du projet**\n",
    "#\n",
    "# ➤ Initialiser l’environnement virtuel et installer les bibliothèques nécessaires :\n",
    "#\n",
    "# ```bash\n",
    "# python3 -m venv .venv\n",
    "# source .venv/bin/activate\n",
    "# pip install pandas matplotlib seaborn jupyter\n",
    "# ```\n",
    "# ➤ Optionnel : configurer Git pour le suivi de version.\n"
   ],
   "id": "8a88088ca416fca3",
   "outputs": [],
   "execution_count": 25
  },
  {
   "metadata": {
    "ExecuteTime": {
     "end_time": "2025-07-31T14:26:04.440082Z",
     "start_time": "2025-07-31T14:26:04.438625Z"
    }
   },
   "cell_type": "code",
   "source": [
    "# 📥 **ÉTAPE 1 — Chargement des données**\n",
    "#\n",
    "# ➤ Charger le fichier CSV `data/metadata/infos_especes.csv` avec le bon encodage (`UTF-8` ou `latin1`).\n"
   ],
   "id": "1080399830c5393d",
   "outputs": [],
   "execution_count": 26
  },
  {
   "metadata": {
    "ExecuteTime": {
     "end_time": "2025-07-31T14:26:04.461308Z",
     "start_time": "2025-07-31T14:26:04.454772Z"
    }
   },
   "cell_type": "code",
   "source": [
    "import pandas as pd\n",
    "\n",
    "# Lecture du fichier CSV\n",
    "df = pd.read_csv(\"../data/metadata/infos_especes.csv\", encoding=\"UTF-8\", sep=\";\")\n",
    "\n",
    "# Aperçu rapide\n",
    "df.head()\n"
   ],
   "id": "2fa8ce51d8a734ea",
   "outputs": [
    {
     "data": {
      "text/plain": [
       "     Espèce                                        Description  \\\n",
       "0    Castor  Le castor d’Europe, appelé également le castor...   \n",
       "1      Chat  Le Chat sauvage4 (Felis silvestris) est une es...   \n",
       "2     Chien  Alors qu'on estimait autrefois que le Chien co...   \n",
       "3    Coyote  Le coyote, également appelé le chacal américai...   \n",
       "4  Ecureuil  L’écureuil est un rongeur arboricole appartena...   \n",
       "\n",
       "                Nom latin    Famille                       Taille  \\\n",
       "0       Castor canadensis  Mammifère  100 à 135 cm queue comprise   \n",
       "1        Felis silvestris  Mammifère     46 à 51 cm sans la queue   \n",
       "2  Canis lupus familiaris  Mammifère                          NaN   \n",
       "3           Canis latrans  Mammifère                  70 à 120 cm   \n",
       "4        Sciurus vulgaris  Mammifère                   20 à 25 cm   \n",
       "\n",
       "                                          Région  \\\n",
       "0                      Europe du nord et Eurasie   \n",
       "1  Amérique, Europe, Asie occidentale et Afrique   \n",
       "2                                Hémisphère nord   \n",
       "3            Amérique du nord, Amérique centrale   \n",
       "4                Eurasie (Europe, Asie Centrale)   \n",
       "\n",
       "                                             Habitat  \\\n",
       "0  Le castor d’Europe vit le long des rivières, d...   \n",
       "1                                                NaN   \n",
       "2                                                NaN   \n",
       "3  Le coyote vit dans les plaines, les prairies, ...   \n",
       "4  Animal arboricole par excellence, l’écureuil r...   \n",
       "\n",
       "                                            Fun fact  \n",
       "0  À l’exception des humains, le castor est l’un ...  \n",
       "1  Un chat ne peut pas voir directement sous son ...  \n",
       "2  L'empreinte de la truffe d'un chien est aussi ...  \n",
       "3  Animal social et parfois solitaire, le coyote ...  \n",
       "4  L'écureuil est l’un des rares mammifères à pou...  "
      ],
      "text/html": [
       "<div>\n",
       "<style scoped>\n",
       "    .dataframe tbody tr th:only-of-type {\n",
       "        vertical-align: middle;\n",
       "    }\n",
       "\n",
       "    .dataframe tbody tr th {\n",
       "        vertical-align: top;\n",
       "    }\n",
       "\n",
       "    .dataframe thead th {\n",
       "        text-align: right;\n",
       "    }\n",
       "</style>\n",
       "<table border=\"1\" class=\"dataframe\">\n",
       "  <thead>\n",
       "    <tr style=\"text-align: right;\">\n",
       "      <th></th>\n",
       "      <th>Espèce</th>\n",
       "      <th>Description</th>\n",
       "      <th>Nom latin</th>\n",
       "      <th>Famille</th>\n",
       "      <th>Taille</th>\n",
       "      <th>Région</th>\n",
       "      <th>Habitat</th>\n",
       "      <th>Fun fact</th>\n",
       "    </tr>\n",
       "  </thead>\n",
       "  <tbody>\n",
       "    <tr>\n",
       "      <th>0</th>\n",
       "      <td>Castor</td>\n",
       "      <td>Le castor d’Europe, appelé également le castor...</td>\n",
       "      <td>Castor canadensis</td>\n",
       "      <td>Mammifère</td>\n",
       "      <td>100 à 135 cm queue comprise</td>\n",
       "      <td>Europe du nord et Eurasie</td>\n",
       "      <td>Le castor d’Europe vit le long des rivières, d...</td>\n",
       "      <td>À l’exception des humains, le castor est l’un ...</td>\n",
       "    </tr>\n",
       "    <tr>\n",
       "      <th>1</th>\n",
       "      <td>Chat</td>\n",
       "      <td>Le Chat sauvage4 (Felis silvestris) est une es...</td>\n",
       "      <td>Felis silvestris</td>\n",
       "      <td>Mammifère</td>\n",
       "      <td>46 à 51 cm sans la queue</td>\n",
       "      <td>Amérique, Europe, Asie occidentale et Afrique</td>\n",
       "      <td>NaN</td>\n",
       "      <td>Un chat ne peut pas voir directement sous son ...</td>\n",
       "    </tr>\n",
       "    <tr>\n",
       "      <th>2</th>\n",
       "      <td>Chien</td>\n",
       "      <td>Alors qu'on estimait autrefois que le Chien co...</td>\n",
       "      <td>Canis lupus familiaris</td>\n",
       "      <td>Mammifère</td>\n",
       "      <td>NaN</td>\n",
       "      <td>Hémisphère nord</td>\n",
       "      <td>NaN</td>\n",
       "      <td>L'empreinte de la truffe d'un chien est aussi ...</td>\n",
       "    </tr>\n",
       "    <tr>\n",
       "      <th>3</th>\n",
       "      <td>Coyote</td>\n",
       "      <td>Le coyote, également appelé le chacal américai...</td>\n",
       "      <td>Canis latrans</td>\n",
       "      <td>Mammifère</td>\n",
       "      <td>70 à 120 cm</td>\n",
       "      <td>Amérique du nord, Amérique centrale</td>\n",
       "      <td>Le coyote vit dans les plaines, les prairies, ...</td>\n",
       "      <td>Animal social et parfois solitaire, le coyote ...</td>\n",
       "    </tr>\n",
       "    <tr>\n",
       "      <th>4</th>\n",
       "      <td>Ecureuil</td>\n",
       "      <td>L’écureuil est un rongeur arboricole appartena...</td>\n",
       "      <td>Sciurus vulgaris</td>\n",
       "      <td>Mammifère</td>\n",
       "      <td>20 à 25 cm</td>\n",
       "      <td>Eurasie (Europe, Asie Centrale)</td>\n",
       "      <td>Animal arboricole par excellence, l’écureuil r...</td>\n",
       "      <td>L'écureuil est l’un des rares mammifères à pou...</td>\n",
       "    </tr>\n",
       "  </tbody>\n",
       "</table>\n",
       "</div>"
      ]
     },
     "execution_count": 27,
     "metadata": {},
     "output_type": "execute_result"
    }
   ],
   "execution_count": 27
  },
  {
   "metadata": {
    "ExecuteTime": {
     "end_time": "2025-07-31T14:26:04.493622Z",
     "start_time": "2025-07-31T14:26:04.491889Z"
    }
   },
   "cell_type": "code",
   "source": [
    "# 🔧 **ÉTAPE 2 — Nettoyage des colonnes**\n",
    "#\n",
    "# ➤ Objectif : uniformiser les noms de colonnes (minuscules, sans accents, sans espaces).\n"
   ],
   "id": "e36fd85408370908",
   "outputs": [],
   "execution_count": 28
  },
  {
   "metadata": {
    "ExecuteTime": {
     "end_time": "2025-07-31T14:26:04.526161Z",
     "start_time": "2025-07-31T14:26:04.523357Z"
    }
   },
   "cell_type": "code",
   "source": [
    "import unidecode\n",
    "\n",
    "# Nettoyage des noms de colonnes\n",
    "df.columns = [unidecode.unidecode(col).strip().lower().replace(\" \", \"_\") for col in df.columns]\n",
    "df.columns\n"
   ],
   "id": "550c2d3f8e21e592",
   "outputs": [
    {
     "data": {
      "text/plain": [
       "Index(['espece', 'description', 'nom_latin', 'famille', 'taille', 'region',\n",
       "       'habitat', 'fun_fact'],\n",
       "      dtype='object')"
      ]
     },
     "execution_count": 29,
     "metadata": {},
     "output_type": "execute_result"
    }
   ],
   "execution_count": 29
  },
  {
   "metadata": {
    "ExecuteTime": {
     "end_time": "2025-07-31T14:26:04.542941Z",
     "start_time": "2025-07-31T14:26:04.541332Z"
    }
   },
   "cell_type": "code",
   "source": [
    "# 🧹 **ÉTAPE 3 — Nettoyage des données**\n",
    "#\n",
    "# ➤ Objectif : supprimer les doublons, les lignes vides, afficher les valeurs manquantes.\n"
   ],
   "id": "319764943e413fa6",
   "outputs": [],
   "execution_count": 30
  },
  {
   "metadata": {
    "ExecuteTime": {
     "end_time": "2025-07-31T14:26:04.556026Z",
     "start_time": "2025-07-31T14:26:04.551798Z"
    }
   },
   "cell_type": "code",
   "source": [
    "# Supprimer les caractères invisibles comme les \\xa0 (espaces insécables)\n",
    "df = df.map(lambda x: x.replace('\\xa0', ' ') if isinstance(x, str) else x)\n",
    "\n",
    "# Supprimer les lignes entièrement vides\n",
    "df.dropna(how=\"all\", inplace=True)\n",
    "\n",
    "# Supprimer les doublons\n",
    "df.drop_duplicates(inplace=True)\n",
    "\n",
    "# Afficher les valeurs manquantes\n",
    "print(\"✔️ Valeurs manquantes par colonne :\")\n",
    "print(df.isna().sum())\n"
   ],
   "id": "8ad045f77426137b",
   "outputs": [
    {
     "name": "stdout",
     "output_type": "stream",
     "text": [
      "✔️ Valeurs manquantes par colonne :\n",
      "espece         0\n",
      "description    0\n",
      "nom_latin      0\n",
      "famille        0\n",
      "taille         1\n",
      "region         0\n",
      "habitat        3\n",
      "fun_fact       0\n",
      "dtype: int64\n"
     ]
    }
   ],
   "execution_count": 31
  },
  {
   "metadata": {
    "ExecuteTime": {
     "end_time": "2025-07-31T14:26:04.563053Z",
     "start_time": "2025-07-31T14:26:04.561585Z"
    }
   },
   "cell_type": "code",
   "source": [
    "# 📊 **ÉTAPE 4 — Transformation & Visualisation simple**\n",
    "#\n",
    "# ➤ Objectif :\n",
    "# - Extraire la moyenne de la colonne `taille` (qui contient des fourchettes \"20-40\")\n",
    "# - Créer un histogramme des tailles moyennes par espèce\n"
   ],
   "id": "711942b90442607f",
   "outputs": [],
   "execution_count": 32
  },
  {
   "metadata": {
    "ExecuteTime": {
     "end_time": "2025-07-31T14:26:04.658901Z",
     "start_time": "2025-07-31T14:26:04.575734Z"
    }
   },
   "cell_type": "code",
   "source": [
    "import matplotlib.pyplot as plt\n",
    "import seaborn as sns\n",
    "\n",
    "# Extraire la taille moyenne à partir des fourchettes\n",
    "def extract_avg_size(value):\n",
    "    try:\n",
    "        if pd.isna(value):\n",
    "            return None\n",
    "        # Nettoyage\n",
    "        cleaned = str(value).replace('\\xa0', '').replace(' ', '').replace('–', '-').replace('à', '-')\n",
    "        # Séparation\n",
    "        parts = cleaned.split('-')\n",
    "        if len(parts) == 2 and parts[0].isdigit() and parts[1].isdigit():\n",
    "            return (int(parts[0]) + int(parts[1])) / 2\n",
    "        elif parts[0].isdigit():\n",
    "            return int(parts[0])\n",
    "    except:\n",
    "        return None\n",
    "\n",
    "df[\"taille_moyenne_cm\"] = df[\"taille\"].apply(extract_avg_size)\n",
    "df = df[df[\"taille_moyenne_cm\"].notna()]\n",
    "\n",
    "# Affichage du graphique\n",
    "plt.figure(figsize=(12, 6))\n",
    "sns.barplot(x=\"espece\", y=\"taille_moyenne_cm\", data=df)\n",
    "plt.title(\"Taille moyenne par espèce (en cm)\")\n",
    "plt.ylabel(\"Taille moyenne (cm)\")\n",
    "plt.xticks(rotation=45)\n",
    "plt.grid(True)\n",
    "plt.show()\n"
   ],
   "id": "f95289ec37ad9b45",
   "outputs": [
    {
     "data": {
      "text/plain": [
       "<Figure size 1200x600 with 1 Axes>"
      ],
      "image/png": "[encoded data removed]"
     },
     "metadata": {},
     "output_type": "display_data"
    }
   ],
   "execution_count": 33
  },
  {
   "metadata": {
    "ExecuteTime": {
     "end_time": "2025-07-31T14:26:04.673463Z",
     "start_time": "2025-07-31T14:26:04.669307Z"
    }
   },
   "cell_type": "code",
   "source": "df[[\"taille\", \"taille_moyenne_cm\"]].head(10)",
   "id": "fbe6c9f923807534",
   "outputs": [
    {
     "data": {
      "text/plain": [
       "                         taille  taille_moyenne_cm\n",
       "0   100 à 135 cm queue comprise              100.0\n",
       "1      46 à 51 cm sans la queue               46.0\n",
       "3                   70 à 120 cm               70.0\n",
       "4                    20 à 25 cm               20.0\n",
       "5                    34 à 50 cm               34.0\n",
       "7                   75 à 135 cm               75.0\n",
       "9                    1 à 2,30 m                1.0\n",
       "10      11 à 28cm sans la queue               11.0\n",
       "11                   40 à 80 cm               40.0\n",
       "12                  90 à 120 cm               90.0"
      ],
      "text/html": [
       "<div>\n",
       "<style scoped>\n",
       "    .dataframe tbody tr th:only-of-type {\n",
       "        vertical-align: middle;\n",
       "    }\n",
       "\n",
       "    .dataframe tbody tr th {\n",
       "        vertical-align: top;\n",
       "    }\n",
       "\n",
       "    .dataframe thead th {\n",
       "        text-align: right;\n",
       "    }\n",
       "</style>\n",
       "<table border=\"1\" class=\"dataframe\">\n",
       "  <thead>\n",
       "    <tr style=\"text-align: right;\">\n",
       "      <th></th>\n",
       "      <th>taille</th>\n",
       "      <th>taille_moyenne_cm</th>\n",
       "    </tr>\n",
       "  </thead>\n",
       "  <tbody>\n",
       "    <tr>\n",
       "      <th>0</th>\n",
       "      <td>100 à 135 cm queue comprise</td>\n",
       "      <td>100.0</td>\n",
       "    </tr>\n",
       "    <tr>\n",
       "      <th>1</th>\n",
       "      <td>46 à 51 cm sans la queue</td>\n",
       "      <td>46.0</td>\n",
       "    </tr>\n",
       "    <tr>\n",
       "      <th>3</th>\n",
       "      <td>70 à 120 cm</td>\n",
       "      <td>70.0</td>\n",
       "    </tr>\n",
       "    <tr>\n",
       "      <th>4</th>\n",
       "      <td>20 à 25 cm</td>\n",
       "      <td>20.0</td>\n",
       "    </tr>\n",
       "    <tr>\n",
       "      <th>5</th>\n",
       "      <td>34 à 50 cm</td>\n",
       "      <td>34.0</td>\n",
       "    </tr>\n",
       "    <tr>\n",
       "      <th>7</th>\n",
       "      <td>75 à 135 cm</td>\n",
       "      <td>75.0</td>\n",
       "    </tr>\n",
       "    <tr>\n",
       "      <th>9</th>\n",
       "      <td>1 à 2,30 m</td>\n",
       "      <td>1.0</td>\n",
       "    </tr>\n",
       "    <tr>\n",
       "      <th>10</th>\n",
       "      <td>11 à 28cm sans la queue</td>\n",
       "      <td>11.0</td>\n",
       "    </tr>\n",
       "    <tr>\n",
       "      <th>11</th>\n",
       "      <td>40 à 80 cm</td>\n",
       "      <td>40.0</td>\n",
       "    </tr>\n",
       "    <tr>\n",
       "      <th>12</th>\n",
       "      <td>90 à 120 cm</td>\n",
       "      <td>90.0</td>\n",
       "    </tr>\n",
       "  </tbody>\n",
       "</table>\n",
       "</div>"
      ]
     },
     "execution_count": 34,
     "metadata": {},
     "output_type": "execute_result"
    }
   ],
   "execution_count": 34
  },
  {
   "metadata": {
    "ExecuteTime": {
     "end_time": "2025-07-31T14:26:04.706944Z",
     "start_time": "2025-07-31T14:26:04.704797Z"
    }
   },
   "cell_type": "code",
   "source": [
    "# 📈 **ÉTAPE 5 — Détection des valeurs aberrantes**\n",
    "#\n",
    "# ➤ Objectif : identifier visuellement les extrêmes.\n"
   ],
   "id": "6d7a1591adfae454",
   "outputs": [],
   "execution_count": 35
  },
  {
   "metadata": {
    "ExecuteTime": {
     "end_time": "2025-07-31T14:26:04.783968Z",
     "start_time": "2025-07-31T14:26:04.736841Z"
    }
   },
   "cell_type": "code",
   "source": [
    "plt.figure(figsize=(8, 4))\n",
    "sns.boxplot(data=df, y=\"taille_moyenne_cm\")\n",
    "plt.title(\"Distribution de la taille moyenne (en cm)\")\n",
    "plt.ylabel(\"Taille moyenne (cm)\")\n",
    "plt.grid(True)\n",
    "plt.show()\n"
   ],
   "id": "244088a287463d41",
   "outputs": [
    {
     "data": {
      "text/plain": [
       "<Figure size 800x400 with 1 Axes>"
      ],
      "image/png": "[encoded data removed]"
     },
     "metadata": {},
     "output_type": "display_data"
    }
   ],
   "execution_count": 36
  },
  {
   "metadata": {
    "ExecuteTime": {
     "end_time": "2025-07-31T14:26:04.793703Z",
     "start_time": "2025-07-31T14:26:04.792065Z"
    }
   },
   "cell_type": "code",
   "source": [
    "# 📁 **ÉTAPE 6 — Indexation des fichiers d’empreintes**\n",
    "#\n",
    "# ➤ Objectif : lister tous les fichiers d’empreintes dans le dossier `data/raw` et les organiser pour traitement.\n"
   ],
   "id": "662839d1d9b48620",
   "outputs": [],
   "execution_count": 37
  },
  {
   "metadata": {
    "ExecuteTime": {
     "end_time": "2025-07-31T14:26:04.823792Z",
     "start_time": "2025-07-31T14:26:04.806871Z"
    }
   },
   "cell_type": "code",
   "source": [
    "from pathlib import Path\n",
    "\n",
    "# Base path relatif au notebook\n",
    "base_path = Path(\"../data/raw/Mammifères\")\n",
    "extensions = {\".jpg\", \".jpeg\", \".png\"}\n",
    "\n",
    "# Indexation des fichiers avec nettoyage\n",
    "file_index = [\n",
    "    str(path.resolve())  # .resolve() pour chemin absolu propre\n",
    "    for path in base_path.rglob(\"*\")\n",
    "    if path.suffix.lower() in extensions and not path.name.startswith(\"._\")\n",
    "]\n",
    "\n",
    "print(f\"{len(file_index)} fichiers indexés.\")\n",
    "\n",
    "# Création du DataFrame avec espèce extraite\n",
    "df_index = pd.DataFrame({\"fichier\": file_index})\n",
    "df_index[\"espece\"] = df_index[\"fichier\"].apply(lambda x: Path(x).parent.name)\n",
    "\n",
    "# Aperçu\n",
    "df_index.head(10)"
   ],
   "id": "876083b29472a5ef",
   "outputs": [
    {
     "name": "stdout",
     "output_type": "stream",
     "text": [
      "252 fichiers indexés.\n"
     ]
    },
    {
     "data": {
      "text/plain": [
       "                                             fichier    espece\n",
       "0  /Users/louisgardet/dev/python/ETL_Wildlens/dat...  Ecureuil\n",
       "1  /Users/louisgardet/dev/python/ETL_Wildlens/dat...  Ecureuil\n",
       "2  /Users/louisgardet/dev/python/ETL_Wildlens/dat...  Ecureuil\n",
       "3  /Users/louisgardet/dev/python/ETL_Wildlens/dat...  Ecureuil\n",
       "4  /Users/louisgardet/dev/python/ETL_Wildlens/dat...  Ecureuil\n",
       "5  /Users/louisgardet/dev/python/ETL_Wildlens/dat...  Ecureuil\n",
       "6  /Users/louisgardet/dev/python/ETL_Wildlens/dat...  Ecureuil\n",
       "7  /Users/louisgardet/dev/python/ETL_Wildlens/dat...  Ecureuil\n",
       "8  /Users/louisgardet/dev/python/ETL_Wildlens/dat...  Ecureuil\n",
       "9  /Users/louisgardet/dev/python/ETL_Wildlens/dat...  Ecureuil"
      ],
      "text/html": [
       "<div>\n",
       "<style scoped>\n",
       "    .dataframe tbody tr th:only-of-type {\n",
       "        vertical-align: middle;\n",
       "    }\n",
       "\n",
       "    .dataframe tbody tr th {\n",
       "        vertical-align: top;\n",
       "    }\n",
       "\n",
       "    .dataframe thead th {\n",
       "        text-align: right;\n",
       "    }\n",
       "</style>\n",
       "<table border=\"1\" class=\"dataframe\">\n",
       "  <thead>\n",
       "    <tr style=\"text-align: right;\">\n",
       "      <th></th>\n",
       "      <th>fichier</th>\n",
       "      <th>espece</th>\n",
       "    </tr>\n",
       "  </thead>\n",
       "  <tbody>\n",
       "    <tr>\n",
       "      <th>0</th>\n",
       "      <td>/Users/louisgardet/dev/python/ETL_Wildlens/dat...</td>\n",
       "      <td>Ecureuil</td>\n",
       "    </tr>\n",
       "    <tr>\n",
       "      <th>1</th>\n",
       "      <td>/Users/louisgardet/dev/python/ETL_Wildlens/dat...</td>\n",
       "      <td>Ecureuil</td>\n",
       "    </tr>\n",
       "    <tr>\n",
       "      <th>2</th>\n",
       "      <td>/Users/louisgardet/dev/python/ETL_Wildlens/dat...</td>\n",
       "      <td>Ecureuil</td>\n",
       "    </tr>\n",
       "    <tr>\n",
       "      <th>3</th>\n",
       "      <td>/Users/louisgardet/dev/python/ETL_Wildlens/dat...</td>\n",
       "      <td>Ecureuil</td>\n",
       "    </tr>\n",
       "    <tr>\n",
       "      <th>4</th>\n",
       "      <td>/Users/louisgardet/dev/python/ETL_Wildlens/dat...</td>\n",
       "      <td>Ecureuil</td>\n",
       "    </tr>\n",
       "    <tr>\n",
       "      <th>5</th>\n",
       "      <td>/Users/louisgardet/dev/python/ETL_Wildlens/dat...</td>\n",
       "      <td>Ecureuil</td>\n",
       "    </tr>\n",
       "    <tr>\n",
       "      <th>6</th>\n",
       "      <td>/Users/louisgardet/dev/python/ETL_Wildlens/dat...</td>\n",
       "      <td>Ecureuil</td>\n",
       "    </tr>\n",
       "    <tr>\n",
       "      <th>7</th>\n",
       "      <td>/Users/louisgardet/dev/python/ETL_Wildlens/dat...</td>\n",
       "      <td>Ecureuil</td>\n",
       "    </tr>\n",
       "    <tr>\n",
       "      <th>8</th>\n",
       "      <td>/Users/louisgardet/dev/python/ETL_Wildlens/dat...</td>\n",
       "      <td>Ecureuil</td>\n",
       "    </tr>\n",
       "    <tr>\n",
       "      <th>9</th>\n",
       "      <td>/Users/louisgardet/dev/python/ETL_Wildlens/dat...</td>\n",
       "      <td>Ecureuil</td>\n",
       "    </tr>\n",
       "  </tbody>\n",
       "</table>\n",
       "</div>"
      ]
     },
     "execution_count": 38,
     "metadata": {},
     "output_type": "execute_result"
    }
   ],
   "execution_count": 38
  },
  {
   "metadata": {},
   "cell_type": "markdown",
   "source": [
    "# 📁 ÉTAPE 7 — Fusion fichiers & métadonnées\n",
    "\n",
    "## Objectif :\n",
    "\t•\tAssocier chaque fichier à ses métadonnées (taille moyenne, famille, etc.)\n",
    "\t•\tCréer un DataFrame final prêt pour l’analyse ou l’entraînement d’un modèle IA."
   ],
   "id": "eafe4ca8804354ad"
  },
  {
   "metadata": {
    "ExecuteTime": {
     "end_time": "2025-07-31T14:26:04.859927Z",
     "start_time": "2025-07-31T14:26:04.853711Z"
    }
   },
   "cell_type": "code",
   "source": [
    "# Fusion avec le DataFrame de métadonnées\n",
    "# Harmoniser les noms pour la jointure\n",
    "df_index[\"espece\"] = df_index[\"espece\"].str.lower()\n",
    "df[\"espece\"] = df[\"espece\"].str.lower()\n",
    "\n",
    "# Fusion sur le nom de l'espèce\n",
    "df_final = df_index.merge(df, on=\"espece\", how=\"left\")\n",
    "\n",
    "print(\"✅ Fusion terminée :\")\n",
    "print(df_final.head(10))\n",
    "\n",
    "print(f\"\\nNombre total de fichiers annotés : {len(df_final)}\")\n",
    "print(f\"Nombre d'espèces uniques : {df_final['espece'].nunique()}\")\n",
    "print(df_final[\"espece\"].value_counts())"
   ],
   "id": "588eb7d1bb6ca506",
   "outputs": [
    {
     "name": "stdout",
     "output_type": "stream",
     "text": [
      "✅ Fusion terminée :\n",
      "                                             fichier    espece  \\\n",
      "0  /Users/louisgardet/dev/python/ETL_Wildlens/dat...  ecureuil   \n",
      "1  /Users/louisgardet/dev/python/ETL_Wildlens/dat...  ecureuil   \n",
      "2  /Users/louisgardet/dev/python/ETL_Wildlens/dat...  ecureuil   \n",
      "3  /Users/louisgardet/dev/python/ETL_Wildlens/dat...  ecureuil   \n",
      "4  /Users/louisgardet/dev/python/ETL_Wildlens/dat...  ecureuil   \n",
      "5  /Users/louisgardet/dev/python/ETL_Wildlens/dat...  ecureuil   \n",
      "6  /Users/louisgardet/dev/python/ETL_Wildlens/dat...  ecureuil   \n",
      "7  /Users/louisgardet/dev/python/ETL_Wildlens/dat...  ecureuil   \n",
      "8  /Users/louisgardet/dev/python/ETL_Wildlens/dat...  ecureuil   \n",
      "9  /Users/louisgardet/dev/python/ETL_Wildlens/dat...  ecureuil   \n",
      "\n",
      "                                         description         nom_latin  \\\n",
      "0  L’écureuil est un rongeur arboricole appartena...  Sciurus vulgaris   \n",
      "1  L’écureuil est un rongeur arboricole appartena...  Sciurus vulgaris   \n",
      "2  L’écureuil est un rongeur arboricole appartena...  Sciurus vulgaris   \n",
      "3  L’écureuil est un rongeur arboricole appartena...  Sciurus vulgaris   \n",
      "4  L’écureuil est un rongeur arboricole appartena...  Sciurus vulgaris   \n",
      "5  L’écureuil est un rongeur arboricole appartena...  Sciurus vulgaris   \n",
      "6  L’écureuil est un rongeur arboricole appartena...  Sciurus vulgaris   \n",
      "7  L’écureuil est un rongeur arboricole appartena...  Sciurus vulgaris   \n",
      "8  L’écureuil est un rongeur arboricole appartena...  Sciurus vulgaris   \n",
      "9  L’écureuil est un rongeur arboricole appartena...  Sciurus vulgaris   \n",
      "\n",
      "     famille      taille                           region  \\\n",
      "0  Mammifère  20 à 25 cm  Eurasie (Europe, Asie Centrale)   \n",
      "1  Mammifère  20 à 25 cm  Eurasie (Europe, Asie Centrale)   \n",
      "2  Mammifère  20 à 25 cm  Eurasie (Europe, Asie Centrale)   \n",
      "3  Mammifère  20 à 25 cm  Eurasie (Europe, Asie Centrale)   \n",
      "4  Mammifère  20 à 25 cm  Eurasie (Europe, Asie Centrale)   \n",
      "5  Mammifère  20 à 25 cm  Eurasie (Europe, Asie Centrale)   \n",
      "6  Mammifère  20 à 25 cm  Eurasie (Europe, Asie Centrale)   \n",
      "7  Mammifère  20 à 25 cm  Eurasie (Europe, Asie Centrale)   \n",
      "8  Mammifère  20 à 25 cm  Eurasie (Europe, Asie Centrale)   \n",
      "9  Mammifère  20 à 25 cm  Eurasie (Europe, Asie Centrale)   \n",
      "\n",
      "                                             habitat  \\\n",
      "0  Animal arboricole par excellence, l’écureuil r...   \n",
      "1  Animal arboricole par excellence, l’écureuil r...   \n",
      "2  Animal arboricole par excellence, l’écureuil r...   \n",
      "3  Animal arboricole par excellence, l’écureuil r...   \n",
      "4  Animal arboricole par excellence, l’écureuil r...   \n",
      "5  Animal arboricole par excellence, l’écureuil r...   \n",
      "6  Animal arboricole par excellence, l’écureuil r...   \n",
      "7  Animal arboricole par excellence, l’écureuil r...   \n",
      "8  Animal arboricole par excellence, l’écureuil r...   \n",
      "9  Animal arboricole par excellence, l’écureuil r...   \n",
      "\n",
      "                                            fun_fact  taille_moyenne_cm  \n",
      "0  L'écureuil est l’un des rares mammifères à pou...               20.0  \n",
      "1  L'écureuil est l’un des rares mammifères à pou...               20.0  \n",
      "2  L'écureuil est l’un des rares mammifères à pou...               20.0  \n",
      "3  L'écureuil est l’un des rares mammifères à pou...               20.0  \n",
      "4  L'écureuil est l’un des rares mammifères à pou...               20.0  \n",
      "5  L'écureuil est l’un des rares mammifères à pou...               20.0  \n",
      "6  L'écureuil est l’un des rares mammifères à pou...               20.0  \n",
      "7  L'écureuil est l’un des rares mammifères à pou...               20.0  \n",
      "8  L'écureuil est l’un des rares mammifères à pou...               20.0  \n",
      "9  L'écureuil est l’un des rares mammifères à pou...               20.0  \n",
      "\n",
      "Nombre total de fichiers annotés : 252\n",
      "Nombre d'espèces uniques : 13\n",
      "espece\n",
      "lynx            24\n",
      "chien           24\n",
      "raton laveur    23\n",
      "puma            22\n",
      "renard          22\n",
      "ours            22\n",
      "coyote          21\n",
      "ecureuil        19\n",
      "chat            19\n",
      "loup            18\n",
      "castor          17\n",
      "lapin           11\n",
      "rat             10\n",
      "Name: count, dtype: int64\n"
     ]
    }
   ],
   "execution_count": 39
  },
  {
   "metadata": {},
   "cell_type": "markdown",
   "source": "# 📦 Étape 8 — Sauvegarde finale du dataset",
   "id": "371d4ba5d70c8ecb"
  },
  {
   "metadata": {
    "ExecuteTime": {
     "end_time": "2025-07-31T14:26:04.896177Z",
     "start_time": "2025-07-31T14:26:04.888835Z"
    }
   },
   "cell_type": "code",
   "source": [
    "# Sauvegarde finale du dataset indexé\n",
    "\n",
    "# On ajoute la taille moyenne si tu veux la réutiliser\n",
    "df_index = df_index.merge(\n",
    "    df[['espece', 'taille_moyenne_cm']],\n",
    "    on='espece',\n",
    "    how='left'\n",
    ")\n",
    "\n",
    "# On nettoie les colonnes pour le ML\n",
    "df_index['espece'] = df_index['espece'].str.lower().str.replace(\" \", \"_\")\n",
    "\n",
    "# Sauvegarde dans data/processed/\n",
    "output_path = \"../data/processed/dataset_index.csv\"\n",
    "df_index.to_csv(output_path, index=False, sep=\";\")\n",
    "\n",
    "print(f\"✔️ Dataset final sauvegardé : {output_path}\")\n",
    "print(f\"{len(df_index)} fichiers indexés\")\n",
    "df_index.head()"
   ],
   "id": "95c722a4b5702da7",
   "outputs": [
    {
     "name": "stdout",
     "output_type": "stream",
     "text": [
      "✔️ Dataset final sauvegardé : ../data/processed/dataset_index.csv\n",
      "252 fichiers indexés\n"
     ]
    },
    {
     "data": {
      "text/plain": [
       "                                             fichier    espece  \\\n",
       "0  /Users/louisgardet/dev/python/ETL_Wildlens/dat...  ecureuil   \n",
       "1  /Users/louisgardet/dev/python/ETL_Wildlens/dat...  ecureuil   \n",
       "2  /Users/louisgardet/dev/python/ETL_Wildlens/dat...  ecureuil   \n",
       "3  /Users/louisgardet/dev/python/ETL_Wildlens/dat...  ecureuil   \n",
       "4  /Users/louisgardet/dev/python/ETL_Wildlens/dat...  ecureuil   \n",
       "\n",
       "   taille_moyenne_cm  \n",
       "0               20.0  \n",
       "1               20.0  \n",
       "2               20.0  \n",
       "3               20.0  \n",
       "4               20.0  "
      ],
      "text/html": [
       "<div>\n",
       "<style scoped>\n",
       "    .dataframe tbody tr th:only-of-type {\n",
       "        vertical-align: middle;\n",
       "    }\n",
       "\n",
       "    .dataframe tbody tr th {\n",
       "        vertical-align: top;\n",
       "    }\n",
       "\n",
       "    .dataframe thead th {\n",
       "        text-align: right;\n",
       "    }\n",
       "</style>\n",
       "<table border=\"1\" class=\"dataframe\">\n",
       "  <thead>\n",
       "    <tr style=\"text-align: right;\">\n",
       "      <th></th>\n",
       "      <th>fichier</th>\n",
       "      <th>espece</th>\n",
       "      <th>taille_moyenne_cm</th>\n",
       "    </tr>\n",
       "  </thead>\n",
       "  <tbody>\n",
       "    <tr>\n",
       "      <th>0</th>\n",
       "      <td>/Users/louisgardet/dev/python/ETL_Wildlens/dat...</td>\n",
       "      <td>ecureuil</td>\n",
       "      <td>20.0</td>\n",
       "    </tr>\n",
       "    <tr>\n",
       "      <th>1</th>\n",
       "      <td>/Users/louisgardet/dev/python/ETL_Wildlens/dat...</td>\n",
       "      <td>ecureuil</td>\n",
       "      <td>20.0</td>\n",
       "    </tr>\n",
       "    <tr>\n",
       "      <th>2</th>\n",
       "      <td>/Users/louisgardet/dev/python/ETL_Wildlens/dat...</td>\n",
       "      <td>ecureuil</td>\n",
       "      <td>20.0</td>\n",
       "    </tr>\n",
       "    <tr>\n",
       "      <th>3</th>\n",
       "      <td>/Users/louisgardet/dev/python/ETL_Wildlens/dat...</td>\n",
       "      <td>ecureuil</td>\n",
       "      <td>20.0</td>\n",
       "    </tr>\n",
       "    <tr>\n",
       "      <th>4</th>\n",
       "      <td>/Users/louisgardet/dev/python/ETL_Wildlens/dat...</td>\n",
       "      <td>ecureuil</td>\n",
       "      <td>20.0</td>\n",
       "    </tr>\n",
       "  </tbody>\n",
       "</table>\n",
       "</div>"
      ]
     },
     "execution_count": 40,
     "metadata": {},
     "output_type": "execute_result"
    }
   ],
   "execution_count": 40
  },
  {
   "metadata": {},
   "cell_type": "markdown",
   "source": "Remarque : le dataset met du temps avant d'être créé. Vérifier qu'il n'y a pas de duplication si je clique plusieurs fois",
   "id": "2d4030b8164f8ade"
  },
  {
   "metadata": {},
   "cell_type": "markdown",
   "source": [
    "# 📥 ÉTAPE 9 — Ingestion du dataset OpenAnimalTracks\n",
    "Objectif :\n",
    "- Indexer les images de data/raw/OpenAnimalTracks\n",
    "- Créer un dataset_index_openanimaltracks.csv\n",
    "- Préparer ce dataset pour un pipeline séparé"
   ],
   "id": "d50dca83c2160561"
  },
  {
   "metadata": {
    "ExecuteTime": {
     "end_time": "2025-08-04T09:59:11.517361Z",
     "start_time": "2025-08-04T09:59:11.481715Z"
    }
   },
   "cell_type": "code",
   "source": [
    "import pandas as pd\n",
    "from pathlib import Path\n",
    "\n",
    "# 1️⃣ Définir le chemin du dataset\n",
    "openanimal_path = Path(\"../data/raw/OpenAnimalTracks\")\n",
    "\n",
    "# 2️⃣ Parcourir toutes les espèces\n",
    "entries = []\n",
    "for species_dir in openanimal_path.iterdir():\n",
    "    if species_dir.is_dir():\n",
    "        species = species_dir.name  # Garde les noms anglais pour l'instant\n",
    "        for img_path in species_dir.glob(\"*.*\"):\n",
    "            if img_path.suffix.lower() in [\".jpg\", \".jpeg\", \".png\"]:\n",
    "                entries.append([str(img_path), species])\n",
    "\n",
    "# 3️⃣ Créer un DataFrame\n",
    "df_openanimal = pd.DataFrame(entries, columns=[\"fichier\", \"espece\"])\n",
    "print(f\"📊 {len(df_openanimal)} images trouvées pour OpenAnimalTracks\")\n",
    "print(df_openanimal['espece'].value_counts())\n",
    "\n",
    "# 4️⃣ Sauvegarder l’index\n",
    "csv_openanimal = \"../data/metadata/dataset_index_openanimaltracks.csv\"\n",
    "df_openanimal.to_csv(csv_openanimal, sep=\";\", index=False)\n",
    "print(f\"✅ CSV sauvegardé : {csv_openanimal}\")"
   ],
   "id": "bc6a13dba191bf6c",
   "outputs": [
    {
     "name": "stdout",
     "output_type": "stream",
     "text": [
      "📊 2469 images trouvées pour OpenAnimalTracks\n",
      "espece\n",
      "western_grey_squirrel         261\n",
      "raccoon                       247\n",
      "blackbear                     236\n",
      "mule_deer                     214\n",
      "bobcat                        172\n",
      "wild_turkey                   134\n",
      "gray_fox                      134\n",
      "coyote                        132\n",
      "skunk                         132\n",
      "american_mink                 131\n",
      "canada_goose                  120\n",
      "mountainlion                  106\n",
      "north_american_river_otter    105\n",
      "rat                            91\n",
      "mouse                          88\n",
      "beaver                         77\n",
      "horse                          56\n",
      "elephant                       33\n",
      "Name: count, dtype: int64\n",
      "✅ CSV sauvegardé : ../data/metadata/dataset_index_openanimaltracks.csv\n"
     ]
    }
   ],
   "execution_count": 41
  },
  {
   "metadata": {},
   "cell_type": "markdown",
   "source": [
    "📋 ÉTAPE 10 — Vérification de l’index des images\n",
    "\n",
    "Objectifs :\n",
    "\t•\tVérifier que tous les chemins d’images existent\n",
    "\t•\tDétecter les doublons éventuels\n",
    "\t•\tVérifier la répartition des classes"
   ],
   "id": "40242f8408f5941a"
  },
  {
   "metadata": {
    "ExecuteTime": {
     "end_time": "2025-08-04T10:10:54.339197Z",
     "start_time": "2025-08-04T10:10:54.312693Z"
    }
   },
   "cell_type": "code",
   "source": [
    "import pandas as pd\n",
    "from pathlib import Path\n",
    "\n",
    "# 1️⃣ Charger le CSV en ignorant la première ligne d'en-tête\n",
    "csv_path = \"../data/metadata/dataset_index_openanimaltracks.csv\"\n",
    "df = pd.read_csv(csv_path, sep=';', header=0, names=['filepath', 'species'])\n",
    "\n",
    "print(f\"✅ CSV chargé avec {len(df)} lignes\")\n",
    "\n",
    "# 2️⃣ Nettoyer les lignes vides ou incorrectes\n",
    "df = df.dropna(subset=['filepath'])\n",
    "df = df[df['filepath'] != 'fichier']  # Supprime la ligne qui contient \"fichier\" si elle reste\n",
    "\n",
    "# 3️⃣ Vérification des doublons\n",
    "duplicates = df.duplicated(subset='filepath').sum()\n",
    "print(\"✅ Aucun doublon détecté\" if duplicates == 0 else f\"⚠️ {duplicates} doublons détectés\")\n",
    "\n",
    "# 4️⃣ Vérification de l'existence des fichiers\n",
    "missing_files = [f for f in df['filepath'] if not Path(f).exists()]\n",
    "print(\"✅ Tous les fichiers existent\" if not missing_files else f\"⚠️ {len(missing_files)} fichiers manquants\")\n",
    "\n",
    "# 5️⃣ Statistiques par classe\n",
    "class_counts = df['species'].value_counts()\n",
    "print(\"\\n📊 Répartition des images par espèce :\")\n",
    "print(class_counts)\n",
    "\n",
    "# 6️⃣ Chemins uniques\n",
    "unique_paths = df['filepath'].nunique()\n",
    "print(f\"\\n🔹 Chemins uniques : {unique_paths}/{len(df)}\")"
   ],
   "id": "dfd86017dc881f02",
   "outputs": [
    {
     "name": "stdout",
     "output_type": "stream",
     "text": [
      "✅ CSV chargé avec 2469 lignes\n",
      "✅ Aucun doublon détecté\n",
      "✅ Tous les fichiers existent\n",
      "\n",
      "📊 Répartition des images par espèce :\n",
      "species\n",
      "western_grey_squirrel         261\n",
      "raccoon                       247\n",
      "blackbear                     236\n",
      "mule_deer                     214\n",
      "bobcat                        172\n",
      "wild_turkey                   134\n",
      "gray_fox                      134\n",
      "coyote                        132\n",
      "skunk                         132\n",
      "american_mink                 131\n",
      "canada_goose                  120\n",
      "mountainlion                  106\n",
      "north_american_river_otter    105\n",
      "rat                            91\n",
      "mouse                          88\n",
      "beaver                         77\n",
      "horse                          56\n",
      "elephant                       33\n",
      "Name: count, dtype: int64\n",
      "\n",
      "🔹 Chemins uniques : 2469/2469\n"
     ]
    }
   ],
   "execution_count": 47
  },
  {
   "metadata": {},
   "cell_type": "markdown",
   "source": [
    "📊 ÉTAPE 11 — Visualisation de la répartition\n",
    "\n",
    "Objectifs :\n",
    "\t•\tAfficher un barplot pour détecter les déséquilibres\n",
    "\t•\tIdentifier les classes sur- ou sous-représentées"
   ],
   "id": "21122b12f2bdc3ed"
  },
  {
   "metadata": {
    "ExecuteTime": {
     "end_time": "2025-08-04T10:11:15.114676Z",
     "start_time": "2025-08-04T10:11:14.996353Z"
    }
   },
   "cell_type": "code",
   "source": [
    "import matplotlib.pyplot as plt\n",
    "import seaborn as sns\n",
    "\n",
    "plt.figure(figsize=(14,6))\n",
    "sns.barplot(x=class_counts.index, y=class_counts.values)\n",
    "plt.xticks(rotation=45)\n",
    "plt.title(\"Répartition des images par espèce — OpenAnimalTracks\")\n",
    "plt.ylabel(\"Nombre d'images\")\n",
    "plt.grid(axis=\"y\")\n",
    "plt.show()"
   ],
   "id": "4f8448cc09c3600d",
   "outputs": [
    {
     "data": {
      "text/plain": [
       "<Figure size 1400x600 with 1 Axes>"
      ],
      "image/png": "[encoded data removed]"
     },
     "metadata": {},
     "output_type": "display_data"
    }
   ],
   "execution_count": 48
  },
  {
   "metadata": {},
   "cell_type": "markdown",
   "source": [
    "📦 Étape 12 — Harmonisation des classes FR/EN\n",
    "\n",
    "Objectifs :\n",
    "\t1.\tCréer un dictionnaire de mapping anglais → français.\n",
    "\t2.\tGénérer un CSV harmonisé qui sera utilisable pour un entraînement global plus tard.\n",
    "\t3.\tVérifier la répartition finale pour t’assurer qu’il n’y a pas d’espèces orphelines."
   ],
   "id": "80f00b1e59070c53"
  },
  {
   "metadata": {
    "ExecuteTime": {
     "end_time": "2025-08-04T10:13:13.496380Z",
     "start_time": "2025-08-04T10:13:13.325293Z"
    }
   },
   "cell_type": "code",
   "source": [
    "# 🗂️ ÉTAPE 12 — Harmonisation des classes OpenAnimalTracks vers FR\n",
    "\n",
    "\n",
    "import pandas as pd\n",
    "\n",
    "# 1️⃣ Charger le CSV OpenAnimalTracks\n",
    "csv_openanimal = \"../data/metadata/dataset_index_openanimaltracks.csv\"\n",
    "df_open = pd.read_csv(csv_openanimal, sep=';', names=['filepath', 'species'], header=0)\n",
    "\n",
    "# 2️⃣ Dictionnaire de mapping EN → FR\n",
    "mapping_en_fr = {\n",
    "    \"american_mink\": \"vison d'amérique\",\n",
    "    \"beaver\": \"castor\",\n",
    "    \"blackbear\": \"ours noir\",\n",
    "    \"bobcat\": \"lynx roux\",\n",
    "    \"canada_goose\": \"bernache du canada\",\n",
    "    \"coyote\": \"coyote\",\n",
    "    \"elephant\": \"éléphant\",\n",
    "    \"gray_fox\": \"renard gris\",\n",
    "    \"horse\": \"cheval\",\n",
    "    \"mountainlion\": \"puma\",\n",
    "    \"mouse\": \"souris\",\n",
    "    \"mule_deer\": \"cerf mulet\",\n",
    "    \"north_american_river_otter\": \"loutre de rivière\",\n",
    "    \"raccoon\": \"raton laveur\",\n",
    "    \"rat\": \"rat\",\n",
    "    \"skunk\": \"moufette\",\n",
    "    \"western_grey_squirrel\": \"écureuil gris occidental\",\n",
    "    \"wild_turkey\": \"dindon sauvage\"\n",
    "}\n",
    "\n",
    "# 3️⃣ Appliquer le mapping\n",
    "df_open['espece_fr'] = df_open['species'].map(mapping_en_fr)\n",
    "\n",
    "# 4️⃣ Vérification des lignes non mappées\n",
    "non_mapped = df_open[df_open['espece_fr'].isna()]\n",
    "if len(non_mapped) > 0:\n",
    "    print(f\"⚠️ {len(non_mapped)} lignes n'ont pas de correspondance FR\")\n",
    "    print(non_mapped.head())\n",
    "else:\n",
    "    print(\"✅ Toutes les espèces ont été mappées en français.\")\n",
    "\n",
    "# 5️⃣ Sauvegarde d'un CSV harmonisé\n",
    "csv_harmonized = \"../data/metadata/dataset_index_openanimaltracks_FR.csv\"\n",
    "df_open[['filepath', 'espece_fr']].to_csv(csv_harmonized, sep=';', index=False)\n",
    "print(f\"✔️ CSV harmonisé sauvegardé : {csv_harmonized}\")\n",
    "\n",
    "# 6️⃣ Visualisation de la répartition finale en FR\n",
    "import matplotlib.pyplot as plt\n",
    "import seaborn as sns\n",
    "\n",
    "plt.figure(figsize=(14, 6))\n",
    "df_open['espece_fr'].value_counts().plot(kind='bar')\n",
    "plt.xticks(rotation=45)\n",
    "plt.title(\"Répartition des images par espèce (FR) — OpenAnimalTracks\")\n",
    "plt.ylabel(\"Nombre d'images\")\n",
    "plt.grid(axis=\"y\")\n",
    "plt.show()"
   ],
   "id": "e7cbbcdbdcb3ac78",
   "outputs": [
    {
     "name": "stdout",
     "output_type": "stream",
     "text": [
      "✅ Toutes les espèces ont été mappées en français.\n",
      "✔️ CSV harmonisé sauvegardé : ../data/metadata/dataset_index_openanimaltracks_FR.csv\n"
     ]
    },
    {
     "data": {
      "text/plain": [
       "<Figure size 1400x600 with 1 Axes>"
      ],
      "image/png": "[encoded data removed]"
     },
     "metadata": {},
     "output_type": "display_data"
    }
   ],
   "execution_count": 49
  },
  {
   "metadata": {},
   "cell_type": "markdown",
   "source": [
    "📦 Étape 13 — Préparation pour le ML (Train / Val / Test)\n",
    "\n",
    "Objectifs :\n",
    "\t1.\tCharger le CSV harmonisé.\n",
    "\t2.\tCréer des splits train / validation / test (ex : 70/20/10).\n",
    "\t3.\tSauvegarder une structure de dossiers compatible TensorFlow / PyTorch :"
   ],
   "id": "2453b03b7a89f6ee"
  },
  {
   "metadata": {
    "ExecuteTime": {
     "end_time": "2025-08-04T10:19:10.508466Z",
     "start_time": "2025-08-04T10:19:06.873920Z"
    }
   },
   "cell_type": "code",
   "source": [
    "import pandas as pd\n",
    "from pathlib import Path\n",
    "import shutil\n",
    "from sklearn.model_selection import train_test_split\n",
    "\n",
    "# 📁 Chemins\n",
    "CSV_PATH = Path(\"../data/metadata/dataset_index_openanimaltracks_FR.csv\")\n",
    "OUTPUT_DIR = Path(\"../data/processed/OpenAnimalTracks_split\")\n",
    "\n",
    "# 📊 Ratios\n",
    "TRAIN_RATIO = 0.7\n",
    "VAL_RATIO = 0.2\n",
    "TEST_RATIO = 0.1\n",
    "\n",
    "def prepare_dataset_splits():\n",
    "    # ✅ Chargement du dataset\n",
    "    df = pd.read_csv(CSV_PATH, sep=';')\n",
    "    print(f\"✅ Dataset chargé avec {len(df)} images harmonisées\")\n",
    "\n",
    "    # 🎯 Split par classe\n",
    "    splits = []\n",
    "    for espece, group in df.groupby(\"espece_fr\"):\n",
    "        train, temp = train_test_split(group, train_size=TRAIN_RATIO, random_state=42)\n",
    "        val, test = train_test_split(temp, test_size=TEST_RATIO / (VAL_RATIO + TEST_RATIO), random_state=42)\n",
    "\n",
    "        train['split'] = 'train'\n",
    "        val['split'] = 'val'\n",
    "        test['split'] = 'test'\n",
    "\n",
    "        splits.append(pd.concat([train, val, test]))\n",
    "\n",
    "    df_split = pd.concat(splits)\n",
    "    print(\"\\n📊 Répartition finale :\")\n",
    "    print(df_split['split'].value_counts())\n",
    "\n",
    "    return df_split\n",
    "\n",
    "def create_output_structure(output_dir, species_list):\n",
    "    for split in ['train', 'val', 'test']:\n",
    "        for species in species_list:\n",
    "            dir_path = output_dir / split / species\n",
    "            dir_path.mkdir(parents=True, exist_ok=True)\n",
    "\n",
    "def copy_images(df_split, output_dir):\n",
    "    for _, row in df_split.iterrows():\n",
    "        src = Path(row['filepath'])\n",
    "        dst = output_dir / row['split'] / row['espece_fr'] / src.name\n",
    "\n",
    "        if not dst.exists():\n",
    "            shutil.copy(src, dst)\n",
    "\n",
    "def main():\n",
    "    df_split = prepare_dataset_splits()\n",
    "    species_list = df_split['espece_fr'].unique()\n",
    "\n",
    "    create_output_structure(OUTPUT_DIR, species_list)\n",
    "    copy_images(df_split, OUTPUT_DIR)\n",
    "\n",
    "    print(\"\\n✅ Dataset ML prêt dans :\", OUTPUT_DIR)\n",
    "\n",
    "if __name__ == \"__main__\":\n",
    "    main()"
   ],
   "id": "24ff6db19c9f00c4",
   "outputs": [
    {
     "name": "stdout",
     "output_type": "stream",
     "text": [
      "✅ Dataset chargé avec 2469 images harmonisées\n",
      "📊 Répartition finale :\n",
      "split\n",
      "train    1719\n",
      "val       493\n",
      "test      257\n",
      "Name: count, dtype: int64\n",
      "✅ Dataset ML prêt dans : ../data/processed/OpenAnimalTracks_split\n"
     ]
    }
   ],
   "execution_count": 50
  }
 ],
 "metadata": {
  "kernelspec": {
   "display_name": "Python 3",
   "language": "python",
   "name": "python3"
  },
  "language_info": {
   "codemirror_mode": {
    "name": "ipython",
    "version": 2
   },
   "file_extension": ".py",
   "mimetype": "text/x-python",
   "name": "python",
   "nbconvert_exporter": "python",
   "pygments_lexer": "ipython2",
   "version": "2.7.6"
  }
 },
 "nbformat": 4,
 "nbformat_minor": 5
}
